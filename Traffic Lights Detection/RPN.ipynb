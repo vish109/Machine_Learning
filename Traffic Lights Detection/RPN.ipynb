{
  "nbformat": 4,
  "nbformat_minor": 0,
  "metadata": {
    "colab": {
      "name": "RPN.ipynb",
      "provenance": [],
      "collapsed_sections": [],
      "authorship_tag": "ABX9TyM7+SVqKQNLOjMdYZjPRf+3",
      "include_colab_link": true
    },
    "kernelspec": {
      "name": "python3",
      "display_name": "Python 3"
    },
    "language_info": {
      "name": "python"
    },
    "widgets": {
      "application/vnd.jupyter.widget-state+json": {
        "590b4909bb804348920957da74037010": {
          "model_module": "@jupyter-widgets/controls",
          "model_name": "HBoxModel",
          "model_module_version": "1.5.0",
          "state": {
            "_view_name": "HBoxView",
            "_dom_classes": [],
            "_model_name": "HBoxModel",
            "_view_module": "@jupyter-widgets/controls",
            "_model_module_version": "1.5.0",
            "_view_count": null,
            "_view_module_version": "1.5.0",
            "box_style": "",
            "layout": "IPY_MODEL_560ebf204a8343f6b1c4bddf92135732",
            "_model_module": "@jupyter-widgets/controls",
            "children": [
              "IPY_MODEL_a133433c14674385942e952ad95d743f",
              "IPY_MODEL_8239aa8fab16412da342e0fcc8573758",
              "IPY_MODEL_f2557411c2c74ad1ae971199e303ce2d"
            ]
          }
        },
        "560ebf204a8343f6b1c4bddf92135732": {
          "model_module": "@jupyter-widgets/base",
          "model_name": "LayoutModel",
          "model_module_version": "1.2.0",
          "state": {
            "_view_name": "LayoutView",
            "grid_template_rows": null,
            "right": null,
            "justify_content": null,
            "_view_module": "@jupyter-widgets/base",
            "overflow": null,
            "_model_module_version": "1.2.0",
            "_view_count": null,
            "flex_flow": null,
            "width": null,
            "min_width": null,
            "border": null,
            "align_items": null,
            "bottom": null,
            "_model_module": "@jupyter-widgets/base",
            "top": null,
            "grid_column": null,
            "overflow_y": null,
            "overflow_x": null,
            "grid_auto_flow": null,
            "grid_area": null,
            "grid_template_columns": null,
            "flex": null,
            "_model_name": "LayoutModel",
            "justify_items": null,
            "grid_row": null,
            "max_height": null,
            "align_content": null,
            "visibility": null,
            "align_self": null,
            "height": null,
            "min_height": null,
            "padding": null,
            "grid_auto_rows": null,
            "grid_gap": null,
            "max_width": null,
            "order": null,
            "_view_module_version": "1.2.0",
            "grid_template_areas": null,
            "object_position": null,
            "object_fit": null,
            "grid_auto_columns": null,
            "margin": null,
            "display": null,
            "left": null
          }
        },
        "a133433c14674385942e952ad95d743f": {
          "model_module": "@jupyter-widgets/controls",
          "model_name": "HTMLModel",
          "model_module_version": "1.5.0",
          "state": {
            "_view_name": "HTMLView",
            "style": "IPY_MODEL_9246ae73c2694ed79f4c191d0472b50a",
            "_dom_classes": [],
            "description": "",
            "_model_name": "HTMLModel",
            "placeholder": "​",
            "_view_module": "@jupyter-widgets/controls",
            "_model_module_version": "1.5.0",
            "value": "100%",
            "_view_count": null,
            "_view_module_version": "1.5.0",
            "description_tooltip": null,
            "_model_module": "@jupyter-widgets/controls",
            "layout": "IPY_MODEL_31a2f375f56e49bca86db02ddbf08802"
          }
        },
        "8239aa8fab16412da342e0fcc8573758": {
          "model_module": "@jupyter-widgets/controls",
          "model_name": "FloatProgressModel",
          "model_module_version": "1.5.0",
          "state": {
            "_view_name": "ProgressView",
            "style": "IPY_MODEL_a110ab2a167c4c1db5255d559741afa8",
            "_dom_classes": [],
            "description": "",
            "_model_name": "FloatProgressModel",
            "bar_style": "success",
            "max": 553433881,
            "_view_module": "@jupyter-widgets/controls",
            "_model_module_version": "1.5.0",
            "value": 553433881,
            "_view_count": null,
            "_view_module_version": "1.5.0",
            "orientation": "horizontal",
            "min": 0,
            "description_tooltip": null,
            "_model_module": "@jupyter-widgets/controls",
            "layout": "IPY_MODEL_2c97ad7cc7094f9b81cc0ec07a61088b"
          }
        },
        "f2557411c2c74ad1ae971199e303ce2d": {
          "model_module": "@jupyter-widgets/controls",
          "model_name": "HTMLModel",
          "model_module_version": "1.5.0",
          "state": {
            "_view_name": "HTMLView",
            "style": "IPY_MODEL_0fb4b84af99c471e8662854c5358a5a7",
            "_dom_classes": [],
            "description": "",
            "_model_name": "HTMLModel",
            "placeholder": "​",
            "_view_module": "@jupyter-widgets/controls",
            "_model_module_version": "1.5.0",
            "value": " 528M/528M [00:06&lt;00:00, 83.4MB/s]",
            "_view_count": null,
            "_view_module_version": "1.5.0",
            "description_tooltip": null,
            "_model_module": "@jupyter-widgets/controls",
            "layout": "IPY_MODEL_875116fbb69b475092cc5e278d76ee40"
          }
        },
        "9246ae73c2694ed79f4c191d0472b50a": {
          "model_module": "@jupyter-widgets/controls",
          "model_name": "DescriptionStyleModel",
          "model_module_version": "1.5.0",
          "state": {
            "_view_name": "StyleView",
            "_model_name": "DescriptionStyleModel",
            "description_width": "",
            "_view_module": "@jupyter-widgets/base",
            "_model_module_version": "1.5.0",
            "_view_count": null,
            "_view_module_version": "1.2.0",
            "_model_module": "@jupyter-widgets/controls"
          }
        },
        "31a2f375f56e49bca86db02ddbf08802": {
          "model_module": "@jupyter-widgets/base",
          "model_name": "LayoutModel",
          "model_module_version": "1.2.0",
          "state": {
            "_view_name": "LayoutView",
            "grid_template_rows": null,
            "right": null,
            "justify_content": null,
            "_view_module": "@jupyter-widgets/base",
            "overflow": null,
            "_model_module_version": "1.2.0",
            "_view_count": null,
            "flex_flow": null,
            "width": null,
            "min_width": null,
            "border": null,
            "align_items": null,
            "bottom": null,
            "_model_module": "@jupyter-widgets/base",
            "top": null,
            "grid_column": null,
            "overflow_y": null,
            "overflow_x": null,
            "grid_auto_flow": null,
            "grid_area": null,
            "grid_template_columns": null,
            "flex": null,
            "_model_name": "LayoutModel",
            "justify_items": null,
            "grid_row": null,
            "max_height": null,
            "align_content": null,
            "visibility": null,
            "align_self": null,
            "height": null,
            "min_height": null,
            "padding": null,
            "grid_auto_rows": null,
            "grid_gap": null,
            "max_width": null,
            "order": null,
            "_view_module_version": "1.2.0",
            "grid_template_areas": null,
            "object_position": null,
            "object_fit": null,
            "grid_auto_columns": null,
            "margin": null,
            "display": null,
            "left": null
          }
        },
        "a110ab2a167c4c1db5255d559741afa8": {
          "model_module": "@jupyter-widgets/controls",
          "model_name": "ProgressStyleModel",
          "model_module_version": "1.5.0",
          "state": {
            "_view_name": "StyleView",
            "_model_name": "ProgressStyleModel",
            "description_width": "",
            "_view_module": "@jupyter-widgets/base",
            "_model_module_version": "1.5.0",
            "_view_count": null,
            "_view_module_version": "1.2.0",
            "bar_color": null,
            "_model_module": "@jupyter-widgets/controls"
          }
        },
        "2c97ad7cc7094f9b81cc0ec07a61088b": {
          "model_module": "@jupyter-widgets/base",
          "model_name": "LayoutModel",
          "model_module_version": "1.2.0",
          "state": {
            "_view_name": "LayoutView",
            "grid_template_rows": null,
            "right": null,
            "justify_content": null,
            "_view_module": "@jupyter-widgets/base",
            "overflow": null,
            "_model_module_version": "1.2.0",
            "_view_count": null,
            "flex_flow": null,
            "width": null,
            "min_width": null,
            "border": null,
            "align_items": null,
            "bottom": null,
            "_model_module": "@jupyter-widgets/base",
            "top": null,
            "grid_column": null,
            "overflow_y": null,
            "overflow_x": null,
            "grid_auto_flow": null,
            "grid_area": null,
            "grid_template_columns": null,
            "flex": null,
            "_model_name": "LayoutModel",
            "justify_items": null,
            "grid_row": null,
            "max_height": null,
            "align_content": null,
            "visibility": null,
            "align_self": null,
            "height": null,
            "min_height": null,
            "padding": null,
            "grid_auto_rows": null,
            "grid_gap": null,
            "max_width": null,
            "order": null,
            "_view_module_version": "1.2.0",
            "grid_template_areas": null,
            "object_position": null,
            "object_fit": null,
            "grid_auto_columns": null,
            "margin": null,
            "display": null,
            "left": null
          }
        },
        "0fb4b84af99c471e8662854c5358a5a7": {
          "model_module": "@jupyter-widgets/controls",
          "model_name": "DescriptionStyleModel",
          "model_module_version": "1.5.0",
          "state": {
            "_view_name": "StyleView",
            "_model_name": "DescriptionStyleModel",
            "description_width": "",
            "_view_module": "@jupyter-widgets/base",
            "_model_module_version": "1.5.0",
            "_view_count": null,
            "_view_module_version": "1.2.0",
            "_model_module": "@jupyter-widgets/controls"
          }
        },
        "875116fbb69b475092cc5e278d76ee40": {
          "model_module": "@jupyter-widgets/base",
          "model_name": "LayoutModel",
          "model_module_version": "1.2.0",
          "state": {
            "_view_name": "LayoutView",
            "grid_template_rows": null,
            "right": null,
            "justify_content": null,
            "_view_module": "@jupyter-widgets/base",
            "overflow": null,
            "_model_module_version": "1.2.0",
            "_view_count": null,
            "flex_flow": null,
            "width": null,
            "min_width": null,
            "border": null,
            "align_items": null,
            "bottom": null,
            "_model_module": "@jupyter-widgets/base",
            "top": null,
            "grid_column": null,
            "overflow_y": null,
            "overflow_x": null,
            "grid_auto_flow": null,
            "grid_area": null,
            "grid_template_columns": null,
            "flex": null,
            "_model_name": "LayoutModel",
            "justify_items": null,
            "grid_row": null,
            "max_height": null,
            "align_content": null,
            "visibility": null,
            "align_self": null,
            "height": null,
            "min_height": null,
            "padding": null,
            "grid_auto_rows": null,
            "grid_gap": null,
            "max_width": null,
            "order": null,
            "_view_module_version": "1.2.0",
            "grid_template_areas": null,
            "object_position": null,
            "object_fit": null,
            "grid_auto_columns": null,
            "margin": null,
            "display": null,
            "left": null
          }
        }
      }
    }
  },
  "cells": [
    {
      "cell_type": "markdown",
      "metadata": {
        "id": "view-in-github",
        "colab_type": "text"
      },
      "source": [
        "<a href=\"https://colab.research.google.com/github/vishnunagar109/Machine_Learning/blob/main/Traffic%20Lights%20Detection/RPN.ipynb\" target=\"_parent\"><img src=\"https://colab.research.google.com/assets/colab-badge.svg\" alt=\"Open In Colab\"/></a>"
      ]
    },
    {
      "cell_type": "code",
      "metadata": {
        "colab": {
          "base_uri": "https://localhost:8080/"
        },
        "id": "JB3mAB8-up7A",
        "outputId": "1e2ba77b-7028-4b28-c997-340a0cd80a1b"
      },
      "source": [
        "from google.colab import drive\n",
        "drive.mount('/content/gdrive')"
      ],
      "execution_count": null,
      "outputs": [
        {
          "output_type": "stream",
          "name": "stdout",
          "text": [
            "Drive already mounted at /content/gdrive; to attempt to forcibly remount, call drive.mount(\"/content/gdrive\", force_remount=True).\n"
          ]
        }
      ]
    },
    {
      "cell_type": "code",
      "metadata": {
        "id": "teMkMY-fxHuc"
      },
      "source": [
        "import os\n",
        "import sys\n",
        "import cv2\n",
        "import pandas as pd \n",
        "import numpy as np\n",
        "from skimage import io\n",
        "import matplotlib.pyplot as plt\n",
        "import random\n",
        "from shutil import copyfile"
      ],
      "execution_count": 1,
      "outputs": []
    },
    {
      "cell_type": "code",
      "metadata": {
        "id": "CIAmCV1fxbNa"
      },
      "source": [
        "root_dir = 'gdrive/MyDrive/Datasets/OID'"
      ],
      "execution_count": null,
      "outputs": []
    },
    {
      "cell_type": "code",
      "metadata": {
        "id": "YQenhKjixpCG"
      },
      "source": [
        "# # #Getting subset of the data for experimenting\n",
        "\n",
        "images = pd.read_csv(os.path.join(root_dir,'train_images.csv'))\n",
        "annotations = pd.read_csv(os.path.join(root_dir,'train_annotations.csv'))\n",
        "# f1 = image_file.iloc[[i for i in range(100)]]\n",
        "# f2 = annotations_file.iloc[[i for i in range(100)]]\n",
        "# f1.to_csv(os.path.join(root_dir,'train_images_sub.csv'))\n",
        "# f2.to_csv(os.path.join(root_dir,'train_annotations_sub.csv'))"
      ],
      "execution_count": null,
      "outputs": []
    },
    {
      "cell_type": "code",
      "metadata": {
        "id": "nL9DC3xnz3ia"
      },
      "source": [
        "# images = pd.read_csv(os.path.join(root_dir,'train_images.csv'))\n",
        "# annotations = pd.read_csv(os.path.join(root_dir,'train_annotations.csv'))\n",
        "classes = pd.read_csv(os.path.join(root_dir,'class_description.csv'),header=None)"
      ],
      "execution_count": null,
      "outputs": []
    },
    {
      "cell_type": "code",
      "metadata": {
        "id": "CCxBiadB4bdO",
        "colab": {
          "base_uri": "https://localhost:8080/",
          "height": 426
        },
        "outputId": "41a88113-0c22-4b25-bb9d-854684860756"
      },
      "source": [
        "images.head()"
      ],
      "execution_count": null,
      "outputs": [
        {
          "output_type": "execute_result",
          "data": {
            "text/html": [
              "<div>\n",
              "<style scoped>\n",
              "    .dataframe tbody tr th:only-of-type {\n",
              "        vertical-align: middle;\n",
              "    }\n",
              "\n",
              "    .dataframe tbody tr th {\n",
              "        vertical-align: top;\n",
              "    }\n",
              "\n",
              "    .dataframe thead th {\n",
              "        text-align: right;\n",
              "    }\n",
              "</style>\n",
              "<table border=\"1\" class=\"dataframe\">\n",
              "  <thead>\n",
              "    <tr style=\"text-align: right;\">\n",
              "      <th></th>\n",
              "      <th>ImageID</th>\n",
              "      <th>Subset</th>\n",
              "      <th>OriginalURL</th>\n",
              "      <th>OriginalLandingURL</th>\n",
              "      <th>License</th>\n",
              "      <th>AuthorProfileURL</th>\n",
              "      <th>Author</th>\n",
              "      <th>Title</th>\n",
              "      <th>OriginalSize</th>\n",
              "      <th>OriginalMD5</th>\n",
              "      <th>Thumbnail300KURL</th>\n",
              "      <th>Rotation</th>\n",
              "    </tr>\n",
              "  </thead>\n",
              "  <tbody>\n",
              "    <tr>\n",
              "      <th>0</th>\n",
              "      <td>4fa8054781a4c382</td>\n",
              "      <td>train</td>\n",
              "      <td>https://farm3.staticflickr.com/5310/5898076654...</td>\n",
              "      <td>https://www.flickr.com/photos/michael-beat/589...</td>\n",
              "      <td>https://creativecommons.org/licenses/by/2.0/</td>\n",
              "      <td>https://www.flickr.com/people/michael-beat/</td>\n",
              "      <td>Michael Beat</td>\n",
              "      <td>...die FNF-Kerze</td>\n",
              "      <td>4405052</td>\n",
              "      <td>KFukvivpCM5QXl5SqKe41g==</td>\n",
              "      <td>https://c1.staticflickr.com/6/5310/5898076654_...</td>\n",
              "      <td>0.0</td>\n",
              "    </tr>\n",
              "    <tr>\n",
              "      <th>1</th>\n",
              "      <td>b37f763ae67d0888</td>\n",
              "      <td>train</td>\n",
              "      <td>https://c1.staticflickr.com/1/67/197493648_628...</td>\n",
              "      <td>https://www.flickr.com/photos/drstarbuck/19749...</td>\n",
              "      <td>https://creativecommons.org/licenses/by/2.0/</td>\n",
              "      <td>https://www.flickr.com/people/drstarbuck/</td>\n",
              "      <td>Karen</td>\n",
              "      <td>Three boys on a hill</td>\n",
              "      <td>494555</td>\n",
              "      <td>9IzEn38GRNsVpATuv7gzEA==</td>\n",
              "      <td>https://c3.staticflickr.com/1/67/197493648_628...</td>\n",
              "      <td>0.0</td>\n",
              "    </tr>\n",
              "    <tr>\n",
              "      <th>2</th>\n",
              "      <td>7e8584b0f487cb9e</td>\n",
              "      <td>train</td>\n",
              "      <td>https://c7.staticflickr.com/8/7056/7143870979_...</td>\n",
              "      <td>https://www.flickr.com/photos/circasassy/71438...</td>\n",
              "      <td>https://creativecommons.org/licenses/by/2.0/</td>\n",
              "      <td>https://www.flickr.com/people/circasassy/</td>\n",
              "      <td>CircaSassy</td>\n",
              "      <td>A Christmas carol and The cricket on the heart...</td>\n",
              "      <td>2371584</td>\n",
              "      <td>3hQwu0iSzY1VIoXiwp0/Mg==</td>\n",
              "      <td>https://c7.staticflickr.com/8/7056/7143870979_...</td>\n",
              "      <td>0.0</td>\n",
              "    </tr>\n",
              "    <tr>\n",
              "      <th>3</th>\n",
              "      <td>86638230febe21c4</td>\n",
              "      <td>train</td>\n",
              "      <td>https://farm5.staticflickr.com/5128/5301868579...</td>\n",
              "      <td>https://www.flickr.com/photos/ajcreencia/53018...</td>\n",
              "      <td>https://creativecommons.org/licenses/by/2.0/</td>\n",
              "      <td>https://www.flickr.com/people/ajcreencia/</td>\n",
              "      <td>Alex</td>\n",
              "      <td>Abbey and Kenny</td>\n",
              "      <td>949267</td>\n",
              "      <td>onB+rCZnGQg5PRX7xOs18Q==</td>\n",
              "      <td>https://c4.staticflickr.com/6/5128/5301868579_...</td>\n",
              "      <td>NaN</td>\n",
              "    </tr>\n",
              "    <tr>\n",
              "      <th>4</th>\n",
              "      <td>249086e72671397d</td>\n",
              "      <td>train</td>\n",
              "      <td>https://c6.staticflickr.com/4/3930/15342460029...</td>\n",
              "      <td>https://www.flickr.com/photos/codnewsroom/1534...</td>\n",
              "      <td>https://creativecommons.org/licenses/by/2.0/</td>\n",
              "      <td>https://www.flickr.com/people/codnewsroom/</td>\n",
              "      <td>COD Newsroom</td>\n",
              "      <td>Suburban Law Enforcement Academy 20th Annivers...</td>\n",
              "      <td>6541758</td>\n",
              "      <td>MjpaAVbMAWbCusSaxI1D7w==</td>\n",
              "      <td>https://c1.staticflickr.com/4/3930/15342460029...</td>\n",
              "      <td>0.0</td>\n",
              "    </tr>\n",
              "  </tbody>\n",
              "</table>\n",
              "</div>"
            ],
            "text/plain": [
              "            ImageID  ... Rotation\n",
              "0  4fa8054781a4c382  ...      0.0\n",
              "1  b37f763ae67d0888  ...      0.0\n",
              "2  7e8584b0f487cb9e  ...      0.0\n",
              "3  86638230febe21c4  ...      NaN\n",
              "4  249086e72671397d  ...      0.0\n",
              "\n",
              "[5 rows x 12 columns]"
            ]
          },
          "metadata": {},
          "execution_count": 16
        }
      ]
    },
    {
      "cell_type": "code",
      "metadata": {
        "id": "6c4f8jYu0R4P"
      },
      "source": [
        "def draw_bbox(img_id):\n",
        "  img_url = images.loc[images[\"ImageID\"]==img_id]['OriginalURL'].values[0]\n",
        "  img = io.imread(img_url)\n",
        "  print(img.shape)\n",
        "  # io.imshow(img)\n",
        "  #h,w,c = img.shape   #width,height,channels\n",
        "  bboxes = annotations[annotations[\"ImageID\"]==img_id]\n",
        "  for idx,row in bboxes.iterrows():\n",
        "    xmin = int(row['XMin']*img.shape[0])\n",
        "    xmax = int(row['XMax']*img.shape[0])\n",
        "    ymin = int(row['YMin']*img.shape[1])\n",
        "    ymax = int(row['YMax']*img.shape[1])\n",
        "    label = row['LabelName']\n",
        "    classs = classes[classes[0]==label]\n",
        "    class_name = classs[1].values[0]\n",
        "    print(f\"Coordinates: ({xmin},{ymin}),({xmax},{ymax})\")\n",
        "    cv2.rectangle(img,(xmin,ymin),(xmax,ymax),(255,0,0),5)\n",
        "    font = cv2.FONT_HERSHEY_SIMPLEX\n",
        "    cv2.putText(img,class_name,(xmin,ymin-10),font,1,(0,255,0),5)\n",
        "  plt.figure(figsize=(15,10))\n",
        "  plt.title(\"bbox\")\n",
        "  plt.imshow(img)\n",
        "  plt.axis('off')\n",
        "  plt.show()\n"
      ],
      "execution_count": null,
      "outputs": []
    },
    {
      "cell_type": "code",
      "metadata": {
        "id": "TimWJKyE14Vp"
      },
      "source": [
        "# draw_bbox(\"b37f763ae67d0888\")"
      ],
      "execution_count": null,
      "outputs": []
    },
    {
      "cell_type": "code",
      "metadata": {
        "id": "8xbdFBe2-44J",
        "colab": {
          "base_uri": "https://localhost:8080/"
        },
        "outputId": "98151b6f-224b-4415-fad2-2428c713c4bf"
      },
      "source": [
        "print(classes[1].count())"
      ],
      "execution_count": null,
      "outputs": [
        {
          "output_type": "stream",
          "name": "stdout",
          "text": [
            "601\n"
          ]
        }
      ]
    },
    {
      "cell_type": "code",
      "metadata": {
        "id": "2dQeeUrOAtgy"
      },
      "source": [
        "# beds = classes[classes[1]==\"Bed\"]\n",
        "# chairs = classes[classes[1]==\"Chair\"]\n",
        "# tables = classes[classes[1]==\"Table\"]\n",
        "lights=classes[classes[1]==\"Traffic light\"]"
      ],
      "execution_count": null,
      "outputs": []
    },
    {
      "cell_type": "code",
      "metadata": {
        "id": "D0KqOZR6Bkqa",
        "colab": {
          "base_uri": "https://localhost:8080/",
          "height": 36
        },
        "outputId": "65e20a4f-34f4-44bc-cd7a-7525341627ad"
      },
      "source": [
        "# label_bed = beds[0].values[0]\n",
        "# chair_label = chairs[0].values[0]\n",
        "# table_label = tables[0].values[0]\n",
        "lights_label=lights[0].values[0]"
      ],
      "execution_count": null,
      "outputs": [
        {
          "output_type": "execute_result",
          "data": {
            "application/vnd.google.colaboratory.intrinsic+json": {
              "type": "string"
            },
            "text/plain": [
              "'/m/015qff'"
            ]
          },
          "metadata": {},
          "execution_count": 26
        }
      ]
    },
    {
      "cell_type": "code",
      "metadata": {
        "id": "v9osO5onBtGd",
        "colab": {
          "base_uri": "https://localhost:8080/"
        },
        "outputId": "a429c866-1c4f-419f-d04c-d012fa4ebf0d"
      },
      "source": [
        "# bed_bbox = annotations[annotations[\"LabelName\"]==label_bed]\n",
        "# chair_bbox = annotations[annotations[\"LabelName\"]==chair_label]\n",
        "# table_bbox = annotations[annotations[\"LabelName\"]==table_label]\n",
        "# print(f\"Total instances of beds: {len(bed_bbox)}\")\n",
        "# print(f\"Total instances of chairs: {len(chair_bbox)}\")\n",
        "# print(f\"Total instances of tables: {len(table_bbox)}\")\n",
        "lights_bbox = annotations[annotations[\"LabelName\"]==lights_label]\n",
        "print(len(lights_bbox))"
      ],
      "execution_count": null,
      "outputs": [
        {
          "output_type": "stream",
          "name": "stdout",
          "text": [
            "7426\n"
          ]
        }
      ]
    },
    {
      "cell_type": "code",
      "metadata": {
        "id": "lUkV-OgGKJuP"
      },
      "source": [
        "# chair_bbox"
      ],
      "execution_count": null,
      "outputs": []
    },
    {
      "cell_type": "code",
      "metadata": {
        "id": "gfdbGS-CECvx"
      },
      "source": [
        "# bed_img_ids = bed_bbox['ImageID']\n",
        "# chair_img_ids = chair_bbox['ImageID']\n",
        "# table_img_ids = table_bbox['ImageID']\n",
        "lights_img_ids = lights_bbox['ImageID']"
      ],
      "execution_count": null,
      "outputs": []
    },
    {
      "cell_type": "code",
      "metadata": {
        "id": "XhVIGma-KMFX"
      },
      "source": [
        "# n=10 #selecting 10 random images for training\n",
        "# subbed_img_ids = random.sample(list(bed_img_ids),n)\n",
        "# subchair_img_ids = random.sample(list(chair_img_ids),n)\n",
        "# subtable_img_ids = random.sample(list(table_img_ids),n)"
      ],
      "execution_count": null,
      "outputs": []
    },
    {
      "cell_type": "code",
      "metadata": {
        "id": "r5scT6q6GsN9"
      },
      "source": [
        "# #select 10 images from images dataframe\n",
        "# subbed_images = images.loc[images['ImageID'].isin(subbed_img_ids)]\n",
        "# subchair_images = images.loc[images['ImageID'].isin(subchair_img_ids)]\n",
        "# subtable_images = images.loc[images['ImageID'].isin(subtable_img_ids)]"
      ],
      "execution_count": null,
      "outputs": []
    },
    {
      "cell_type": "code",
      "metadata": {
        "id": "YZQ6EYJGHVLz"
      },
      "source": [
        "# #converting data into dictionary of form -> {'ImageID':'OriginalURL'}\n",
        "# subbed_dict = subbed_images[['ImageID','OriginalURL']].set_index('ImageID')[\"OriginalURL\"].to_dict()\n",
        "# subchair_dict = subchair_images[['ImageID','OriginalURL']].set_index('ImageID')[\"OriginalURL\"].to_dict()\n",
        "# subtable_dict = subtable_images[['ImageID','OriginalURL']].set_index('ImageID')[\"OriginalURL\"].to_dict()\n",
        "# mappings = [subbed_dict,subchair_dict,subtable_dict]\n",
        "lights_images = images.loc[images['ImageID'].isin(lights_img_ids)]\n",
        "lights_dict=lights_images[['ImageID','OriginalURL']].set_index('ImageID')[\"OriginalURL\"].to_dict()"
      ],
      "execution_count": null,
      "outputs": []
    },
    {
      "cell_type": "code",
      "metadata": {
        "id": "0E0kUaJ5HYSI",
        "colab": {
          "base_uri": "https://localhost:8080/"
        },
        "outputId": "aa11e561-2acc-4c6b-8dbb-9e223cc7ab9d"
      },
      "source": [
        "# #Download images\n",
        "# c = ['bed','chair','table']  #classes we are working on\n",
        "# for idx,obj in enumerate(c):\n",
        "#   n_issues=0\n",
        "#   root_path = os.path.join(root_dir,obj)\n",
        "#   if not os.path.exists(root_path):\n",
        "#     os.mkdir(root_path)\n",
        "#     for img_id,url in mappings[idx].items():\n",
        "#       try:\n",
        "#         img = io.imread(url)\n",
        "#         saved_path = os.path.join(root_path,img_id+\".jpg\")\n",
        "#         io.imsave(saved_path,img)\n",
        "#       except Exception as e:\n",
        "#         n_issues+=1\n",
        "    \n",
        "#   print(f\"Images issues: {n_issues}\")\n",
        "n_issues=0\n",
        "root_path = os.path.join(root_dir,'lights')\n",
        "if not os.path.exists(root_path):\n",
        "     os.mkdir(root_path)\n",
        "     for img_id,url in lights_dict.items():\n",
        "       try:\n",
        "         img = io.imread(url)\n",
        "         saved_path = os.path.join(root_path,img_id+\".jpg\")\n",
        "         io.imsave(saved_path,img)\n",
        "       except Exception as e:\n",
        "         n_issues+=1\n",
        "    \n",
        "print(f\"Images issues: {n_issues}\")"
      ],
      "execution_count": null,
      "outputs": [
        {
          "metadata": {
            "tags": null
          },
          "name": "stderr",
          "output_type": "stream",
          "text": [
            "/usr/local/lib/python3.7/dist-packages/PIL/TiffImagePlugin.py:770: UserWarning: Possibly corrupt EXIF data.  Expecting to read 1310720 bytes but only got 0. Skipping tag 0\n",
            "  \" Skipping tag %s\" % (size, len(data), tag)\n",
            "/usr/local/lib/python3.7/dist-packages/PIL/TiffImagePlugin.py:770: UserWarning: Possibly corrupt EXIF data.  Expecting to read 262144 bytes but only got 0. Skipping tag 0\n",
            "  \" Skipping tag %s\" % (size, len(data), tag)\n",
            "/usr/local/lib/python3.7/dist-packages/PIL/TiffImagePlugin.py:770: UserWarning: Possibly corrupt EXIF data.  Expecting to read 131072 bytes but only got 0. Skipping tag 0\n",
            "  \" Skipping tag %s\" % (size, len(data), tag)\n"
          ]
        },
        {
          "output_type": "stream",
          "name": "stdout",
          "text": [
            "Images issues: 125\n"
          ]
        }
      ]
    },
    {
      "cell_type": "code",
      "metadata": {
        "id": "-PXyzmvac8-J"
      },
      "source": [
        "# #Save images into train and test directories\n",
        "train_path = os.path.join(root_dir,'train_lights')\n",
        "test_path = os.path.join(root_dir,'test_lights')\n",
        "os.mkdir(train_path)\n",
        "os.mkdir(test_path)"
      ],
      "execution_count": null,
      "outputs": []
    },
    {
      "cell_type": "code",
      "metadata": {
        "id": "HLF7s9ZdeM-S"
      },
      "source": [
        "# #copy data into train and test directories\n",
        "# for i in range(len(c)):\n",
        "#   all_img = os.listdir(os.path.join(root_dir,c[i]))\n",
        "#   all_img = [f for f in all_img if not f.startswith('.')]\n",
        "#   random.shuffle(all_img)\n",
        "#   limit = int(n*0.8)  #80% images for training\n",
        "#   train_img = all_img[:limit]\n",
        "#   test_img = all_img[limit:]\n",
        "\n",
        "#   for j in range(len(train_img)):\n",
        "#     original_path = os.path.join(os.path.join(root_dir,c[i]),train_img[j])\n",
        "#     new_path = os.path.join(train_path,train_img[j])\n",
        "#     copyfile(original_path,new_path)\n",
        "\n",
        "#   for j in range(len(test_img)):\n",
        "#     original_path = os.path.join(os.path.join(root_dir,c[i]),test_img[j])\n",
        "#     new_path = os.path.join(test_path,test_img[j])\n",
        "#     copyfile(original_path,new_path)\n",
        "\n",
        "all_img = os.listdir(os.path.join(root_dir,'lights'))\n",
        "n=len(all_img)\n",
        "all_img = [f for f in all_img if not f.startswith('.')]\n",
        "random.shuffle(all_img)\n",
        "limit = int(n*0.88)  #80% images for training\n",
        "train_img = all_img[:limit]\n",
        "test_img = all_img[limit:]\n",
        "\n",
        "for j in range(len(train_img)):\n",
        "  original_path = os.path.join(os.path.join(root_dir,'lights'),train_img[j])\n",
        "  new_path = os.path.join(train_path,train_img[j])\n",
        "  copyfile(original_path,new_path)\n",
        "\n",
        "for j in range(len(test_img)):\n",
        "  original_path = os.path.join(os.path.join(root_dir,'lights'),test_img[j])\n",
        "  new_path = os.path.join(test_path,test_img[j])\n",
        "  copyfile(original_path,new_path)"
      ],
      "execution_count": null,
      "outputs": []
    },
    {
      "cell_type": "code",
      "metadata": {
        "id": "JRlpVIaHgaMr",
        "colab": {
          "base_uri": "https://localhost:8080/"
        },
        "outputId": "47827f65-029a-44e8-f92b-897d3cdbe4b6"
      },
      "source": [
        "# labels = [label_bed,chair_label,table_label]\n",
        "train_df = pd.DataFrame(columns=['FileName', 'XMin', 'YMin', 'XMax', 'YMax', 'ClassName'])\n",
        "\n",
        "# Find boxes in each image and put them in a dataframe\n",
        "train_imgs = os.listdir(train_path)\n",
        "train_imgs = [name for name in train_imgs if not name.startswith('.')]\n",
        "\n",
        "for i in range(len(train_imgs)):\n",
        "    sys.stdout.write('Parse train_imgs ' + str(i) + '; Number of boxes: ' + str(len(train_df)) + '\\r')\n",
        "    sys.stdout.flush()\n",
        "    img_name = train_imgs[i]\n",
        "    img_id = img_name[0:16]\n",
        "    tmp_df = annotations[annotations['ImageID']==img_id]\n",
        "    for index, row in tmp_df.iterrows():\n",
        "        labelName = row['LabelName']\n",
        "        if labelName==lights_label:\n",
        "            train_df = train_df.append({'FileName': img_name, \n",
        "                                        'XMin': row['XMin'], \n",
        "                                        'YMin': row['YMin'], \n",
        "                                        'XMax': row['XMax'], \n",
        "                                        'YMax': row['YMax'], \n",
        "                                        'ClassName': 'lights'}, \n",
        "                                        ignore_index=True)"
      ],
      "execution_count": null,
      "outputs": [
        {
          "output_type": "stream",
          "name": "stdout",
          "text": [
            ""
          ]
        }
      ]
    },
    {
      "cell_type": "code",
      "metadata": {
        "id": "Bch6VT5kn6NJ",
        "colab": {
          "base_uri": "https://localhost:8080/",
          "height": 204
        },
        "outputId": "973fc1f3-afce-4de4-b897-d5ea231a717f"
      },
      "source": [
        "train_df.head()"
      ],
      "execution_count": null,
      "outputs": [
        {
          "output_type": "execute_result",
          "data": {
            "text/html": [
              "<div>\n",
              "<style scoped>\n",
              "    .dataframe tbody tr th:only-of-type {\n",
              "        vertical-align: middle;\n",
              "    }\n",
              "\n",
              "    .dataframe tbody tr th {\n",
              "        vertical-align: top;\n",
              "    }\n",
              "\n",
              "    .dataframe thead th {\n",
              "        text-align: right;\n",
              "    }\n",
              "</style>\n",
              "<table border=\"1\" class=\"dataframe\">\n",
              "  <thead>\n",
              "    <tr style=\"text-align: right;\">\n",
              "      <th></th>\n",
              "      <th>FileName</th>\n",
              "      <th>XMin</th>\n",
              "      <th>YMin</th>\n",
              "      <th>XMax</th>\n",
              "      <th>YMax</th>\n",
              "      <th>ClassName</th>\n",
              "    </tr>\n",
              "  </thead>\n",
              "  <tbody>\n",
              "    <tr>\n",
              "      <th>0</th>\n",
              "      <td>0470f9aa3330efcb.jpg</td>\n",
              "      <td>0.004688</td>\n",
              "      <td>0.797917</td>\n",
              "      <td>0.023438</td>\n",
              "      <td>0.845833</td>\n",
              "      <td>lights</td>\n",
              "    </tr>\n",
              "    <tr>\n",
              "      <th>1</th>\n",
              "      <td>0470f9aa3330efcb.jpg</td>\n",
              "      <td>0.129688</td>\n",
              "      <td>0.879167</td>\n",
              "      <td>0.178125</td>\n",
              "      <td>0.897917</td>\n",
              "      <td>lights</td>\n",
              "    </tr>\n",
              "    <tr>\n",
              "      <th>2</th>\n",
              "      <td>0470f9aa3330efcb.jpg</td>\n",
              "      <td>0.260938</td>\n",
              "      <td>0.910417</td>\n",
              "      <td>0.273438</td>\n",
              "      <td>0.939583</td>\n",
              "      <td>lights</td>\n",
              "    </tr>\n",
              "    <tr>\n",
              "      <th>3</th>\n",
              "      <td>0470f9aa3330efcb.jpg</td>\n",
              "      <td>0.512500</td>\n",
              "      <td>0.591667</td>\n",
              "      <td>0.542188</td>\n",
              "      <td>0.668750</td>\n",
              "      <td>lights</td>\n",
              "    </tr>\n",
              "    <tr>\n",
              "      <th>4</th>\n",
              "      <td>0470f9aa3330efcb.jpg</td>\n",
              "      <td>0.606250</td>\n",
              "      <td>0.016667</td>\n",
              "      <td>0.743750</td>\n",
              "      <td>0.375000</td>\n",
              "      <td>lights</td>\n",
              "    </tr>\n",
              "  </tbody>\n",
              "</table>\n",
              "</div>"
            ],
            "text/plain": [
              "               FileName      XMin      YMin      XMax      YMax ClassName\n",
              "0  0470f9aa3330efcb.jpg  0.004688  0.797917  0.023438  0.845833    lights\n",
              "1  0470f9aa3330efcb.jpg  0.129688  0.879167  0.178125  0.897917    lights\n",
              "2  0470f9aa3330efcb.jpg  0.260938  0.910417  0.273438  0.939583    lights\n",
              "3  0470f9aa3330efcb.jpg  0.512500  0.591667  0.542188  0.668750    lights\n",
              "4  0470f9aa3330efcb.jpg  0.606250  0.016667  0.743750  0.375000    lights"
            ]
          },
          "metadata": {},
          "execution_count": 57
        }
      ]
    },
    {
      "cell_type": "code",
      "metadata": {
        "id": "CSI1lGDWocuW",
        "colab": {
          "base_uri": "https://localhost:8080/"
        },
        "outputId": "d39356fa-5d44-48f4-c564-1859385119c9"
      },
      "source": [
        "# labels = [label_bed,chair_label,table_label]\n",
        "test_df = pd.DataFrame(columns=['FileName', 'XMin', 'YMin', 'XMax', 'YMax', 'ClassName'])\n",
        "\n",
        "# Find boxes in each image and put them in a dataframe\n",
        "test_imgs = os.listdir(test_path)\n",
        "test_imgs = [name for name in test_imgs if not name.startswith('.')]\n",
        "\n",
        "for i in range(len(test_imgs)):\n",
        "    sys.stdout.write('Parse train_imgs ' + str(i) + '; Number of boxes: ' + str(len(test_df)) + '\\r')\n",
        "    sys.stdout.flush()\n",
        "    img_name = test_imgs[i]\n",
        "    img_id = img_name[0:16]\n",
        "    tmp_df = annotations[annotations['ImageID']==img_id]\n",
        "    for index, row in tmp_df.iterrows():\n",
        "        labelName = row['LabelName']\n",
        "        if labelName==lights_label:\n",
        "            test_df = test_df.append({'FileName': img_name, \n",
        "                                        'XMin': row['XMin'], \n",
        "                                        'YMin': row['YMin'], \n",
        "                                        'XMax': row['XMax'], \n",
        "                                        'YMax': row['YMax'], \n",
        "                                        'ClassName': 'lights'}, \n",
        "                                        ignore_index=True)"
      ],
      "execution_count": null,
      "outputs": [
        {
          "output_type": "stream",
          "name": "stdout",
          "text": [
            ""
          ]
        }
      ]
    },
    {
      "cell_type": "code",
      "metadata": {
        "id": "r4tOaFaYouMG"
      },
      "source": [
        "train_df.to_csv(os.path.join(root_dir,'train_lights.csv'))\n",
        "test_df.to_csv(os.path.join(root_dir,'test_lights.csv'))"
      ],
      "execution_count": null,
      "outputs": []
    },
    {
      "cell_type": "code",
      "metadata": {
        "id": "o43LbRc_o_MO"
      },
      "source": [
        "train_df = pd.read_csv(os.path.join(root_dir,'train_lights.csv'))\n",
        "with open(os.path.join(root_dir,\"train_annotations.txt\"),\"w+\") as f:\n",
        "  for idx,row in train_df.iterrows():\n",
        "    img = cv2.imread(root_dir+\"/train_lights/\"+row['FileName'])\n",
        "    h,w = img.shape[:2]\n",
        "    x1 = int(row['XMin']*w)\n",
        "    x2 = int(row['XMax']*w)\n",
        "    y1 = int(row['YMin']*h)\n",
        "    y2 = int(row['YMax']*h)\n",
        "    train_file_path = root_dir+\"/train_lights\"\n",
        "    filename = os.path.join(train_file_path,row['FileName'])\n",
        "    c = row['ClassName']\n",
        "    f.write(filename+','+str(x1)+','+str(y1)+','+str(x2)+','+str(y2)+','+c+'\\n')"
      ],
      "execution_count": null,
      "outputs": []
    },
    {
      "cell_type": "code",
      "metadata": {
        "id": "4xHUJrZ55AhF"
      },
      "source": [
        "test_df = pd.read_csv(os.path.join(root_dir,'test_lights.csv'))\n",
        "with open(os.path.join(root_dir,\"test_annotations.txt\"),\"w+\") as f:\n",
        "  for idx,row in test_df.iterrows():\n",
        "    img = cv2.imread(root_dir+\"/test_lights/\"+row['FileName'])\n",
        "    h,w = img.shape[:2]\n",
        "    x1 = int(row['XMin']*w)\n",
        "    x2 = int(row['XMax']*w)\n",
        "    y1 = int(row['YMin']*h)\n",
        "    y2 = int(row['YMax']*h)\n",
        "    train_file_path = root_dir+\"/test_lights\"\n",
        "    filename = os.path.join(train_file_path,row['FileName'])\n",
        "    c = row['ClassName']\n",
        "    f.write(filename+','+str(x1)+','+str(y1)+','+str(x2)+','+str(y2)+','+c+'\\n')"
      ],
      "execution_count": null,
      "outputs": []
    },
    {
      "cell_type": "code",
      "metadata": {
        "id": "_zcYmQvO59QD"
      },
      "source": [
        "import torch\n",
        "import torch.nn as nn\n",
        "import torch.optim as optim\n",
        "import torchvision.models as models"
      ],
      "execution_count": null,
      "outputs": []
    },
    {
      "cell_type": "code",
      "metadata": {
        "colab": {
          "base_uri": "https://localhost:8080/",
          "height": 867,
          "referenced_widgets": [
            "590b4909bb804348920957da74037010",
            "560ebf204a8343f6b1c4bddf92135732",
            "a133433c14674385942e952ad95d743f",
            "8239aa8fab16412da342e0fcc8573758",
            "f2557411c2c74ad1ae971199e303ce2d",
            "9246ae73c2694ed79f4c191d0472b50a",
            "31a2f375f56e49bca86db02ddbf08802",
            "a110ab2a167c4c1db5255d559741afa8",
            "2c97ad7cc7094f9b81cc0ec07a61088b",
            "0fb4b84af99c471e8662854c5358a5a7",
            "875116fbb69b475092cc5e278d76ee40"
          ]
        },
        "id": "apnUhoDOZv05",
        "outputId": "d62ae52a-bd8b-4f30-e859-44a44db74f15"
      },
      "source": [
        "#backbone vgg network\n",
        "vgg = models.vgg16(pretrained=True)\n",
        "f = list(vgg.features)\n",
        "print(vgg)"
      ],
      "execution_count": null,
      "outputs": [
        {
          "output_type": "stream",
          "name": "stderr",
          "text": [
            "Downloading: \"https://download.pytorch.org/models/vgg16-397923af.pth\" to /root/.cache/torch/hub/checkpoints/vgg16-397923af.pth\n"
          ]
        },
        {
          "output_type": "display_data",
          "data": {
            "application/vnd.jupyter.widget-view+json": {
              "model_id": "590b4909bb804348920957da74037010",
              "version_minor": 0,
              "version_major": 2
            },
            "text/plain": [
              "  0%|          | 0.00/528M [00:00<?, ?B/s]"
            ]
          },
          "metadata": {}
        },
        {
          "output_type": "stream",
          "name": "stdout",
          "text": [
            "VGG(\n",
            "  (features): Sequential(\n",
            "    (0): Conv2d(3, 64, kernel_size=(3, 3), stride=(1, 1), padding=(1, 1))\n",
            "    (1): ReLU(inplace=True)\n",
            "    (2): Conv2d(64, 64, kernel_size=(3, 3), stride=(1, 1), padding=(1, 1))\n",
            "    (3): ReLU(inplace=True)\n",
            "    (4): MaxPool2d(kernel_size=2, stride=2, padding=0, dilation=1, ceil_mode=False)\n",
            "    (5): Conv2d(64, 128, kernel_size=(3, 3), stride=(1, 1), padding=(1, 1))\n",
            "    (6): ReLU(inplace=True)\n",
            "    (7): Conv2d(128, 128, kernel_size=(3, 3), stride=(1, 1), padding=(1, 1))\n",
            "    (8): ReLU(inplace=True)\n",
            "    (9): MaxPool2d(kernel_size=2, stride=2, padding=0, dilation=1, ceil_mode=False)\n",
            "    (10): Conv2d(128, 256, kernel_size=(3, 3), stride=(1, 1), padding=(1, 1))\n",
            "    (11): ReLU(inplace=True)\n",
            "    (12): Conv2d(256, 256, kernel_size=(3, 3), stride=(1, 1), padding=(1, 1))\n",
            "    (13): ReLU(inplace=True)\n",
            "    (14): Conv2d(256, 256, kernel_size=(3, 3), stride=(1, 1), padding=(1, 1))\n",
            "    (15): ReLU(inplace=True)\n",
            "    (16): MaxPool2d(kernel_size=2, stride=2, padding=0, dilation=1, ceil_mode=False)\n",
            "    (17): Conv2d(256, 512, kernel_size=(3, 3), stride=(1, 1), padding=(1, 1))\n",
            "    (18): ReLU(inplace=True)\n",
            "    (19): Conv2d(512, 512, kernel_size=(3, 3), stride=(1, 1), padding=(1, 1))\n",
            "    (20): ReLU(inplace=True)\n",
            "    (21): Conv2d(512, 512, kernel_size=(3, 3), stride=(1, 1), padding=(1, 1))\n",
            "    (22): ReLU(inplace=True)\n",
            "    (23): MaxPool2d(kernel_size=2, stride=2, padding=0, dilation=1, ceil_mode=False)\n",
            "    (24): Conv2d(512, 512, kernel_size=(3, 3), stride=(1, 1), padding=(1, 1))\n",
            "    (25): ReLU(inplace=True)\n",
            "    (26): Conv2d(512, 512, kernel_size=(3, 3), stride=(1, 1), padding=(1, 1))\n",
            "    (27): ReLU(inplace=True)\n",
            "    (28): Conv2d(512, 512, kernel_size=(3, 3), stride=(1, 1), padding=(1, 1))\n",
            "    (29): ReLU(inplace=True)\n",
            "    (30): MaxPool2d(kernel_size=2, stride=2, padding=0, dilation=1, ceil_mode=False)\n",
            "  )\n",
            "  (avgpool): AdaptiveAvgPool2d(output_size=(7, 7))\n",
            "  (classifier): Sequential(\n",
            "    (0): Linear(in_features=25088, out_features=4096, bias=True)\n",
            "    (1): ReLU(inplace=True)\n",
            "    (2): Dropout(p=0.5, inplace=False)\n",
            "    (3): Linear(in_features=4096, out_features=4096, bias=True)\n",
            "    (4): ReLU(inplace=True)\n",
            "    (5): Dropout(p=0.5, inplace=False)\n",
            "    (6): Linear(in_features=4096, out_features=1000, bias=True)\n",
            "  )\n",
            ")\n"
          ]
        }
      ]
    },
    {
      "cell_type": "code",
      "metadata": {
        "colab": {
          "base_uri": "https://localhost:8080/"
        },
        "id": "M2iUgbW-ejH5",
        "outputId": "bc75d8f2-747d-4594-f49e-0ee9e35a331f"
      },
      "source": [
        "req_features=[]\n",
        "dummy_img = torch.zeros((1, 3, 800, 800)).float()\n",
        "k=dummy_img.clone()\n",
        "for i in f:\n",
        "  k=i(k)\n",
        "  if(k.size()[2]<800//16):\n",
        "    break\n",
        "  req_features.append(i)\n",
        "  out_c=k.size()[1]\n",
        "print(len(req_features))\n",
        "print(out_c)"
      ],
      "execution_count": null,
      "outputs": [
        {
          "output_type": "stream",
          "name": "stdout",
          "text": [
            "30\n",
            "512\n"
          ]
        }
      ]
    },
    {
      "cell_type": "code",
      "metadata": {
        "colab": {
          "base_uri": "https://localhost:8080/"
        },
        "id": "oWQSZl95gwgL",
        "outputId": "cbf6b064-b6e2-46cb-c294-5928f6d5d45c"
      },
      "source": [
        "print(k.size()[2])"
      ],
      "execution_count": null,
      "outputs": [
        {
          "output_type": "stream",
          "name": "stdout",
          "text": [
            "25\n"
          ]
        }
      ]
    },
    {
      "cell_type": "code",
      "metadata": {
        "colab": {
          "base_uri": "https://localhost:8080/"
        },
        "id": "pTk5H3awgXLC",
        "outputId": "cfdf8416-6f35-4188-d4a2-6e2ee78eeb44"
      },
      "source": [
        "#backbone \n",
        "backbone = nn.Sequential(*req_features)\n",
        "print(backbone)\n",
        "out = backbone(dummy_img)\n",
        "print(out.shape)"
      ],
      "execution_count": null,
      "outputs": [
        {
          "output_type": "stream",
          "name": "stdout",
          "text": [
            "Sequential(\n",
            "  (0): Conv2d(3, 64, kernel_size=(3, 3), stride=(1, 1), padding=(1, 1))\n",
            "  (1): ReLU(inplace=True)\n",
            "  (2): Conv2d(64, 64, kernel_size=(3, 3), stride=(1, 1), padding=(1, 1))\n",
            "  (3): ReLU(inplace=True)\n",
            "  (4): MaxPool2d(kernel_size=2, stride=2, padding=0, dilation=1, ceil_mode=False)\n",
            "  (5): Conv2d(64, 128, kernel_size=(3, 3), stride=(1, 1), padding=(1, 1))\n",
            "  (6): ReLU(inplace=True)\n",
            "  (7): Conv2d(128, 128, kernel_size=(3, 3), stride=(1, 1), padding=(1, 1))\n",
            "  (8): ReLU(inplace=True)\n",
            "  (9): MaxPool2d(kernel_size=2, stride=2, padding=0, dilation=1, ceil_mode=False)\n",
            "  (10): Conv2d(128, 256, kernel_size=(3, 3), stride=(1, 1), padding=(1, 1))\n",
            "  (11): ReLU(inplace=True)\n",
            "  (12): Conv2d(256, 256, kernel_size=(3, 3), stride=(1, 1), padding=(1, 1))\n",
            "  (13): ReLU(inplace=True)\n",
            "  (14): Conv2d(256, 256, kernel_size=(3, 3), stride=(1, 1), padding=(1, 1))\n",
            "  (15): ReLU(inplace=True)\n",
            "  (16): MaxPool2d(kernel_size=2, stride=2, padding=0, dilation=1, ceil_mode=False)\n",
            "  (17): Conv2d(256, 512, kernel_size=(3, 3), stride=(1, 1), padding=(1, 1))\n",
            "  (18): ReLU(inplace=True)\n",
            "  (19): Conv2d(512, 512, kernel_size=(3, 3), stride=(1, 1), padding=(1, 1))\n",
            "  (20): ReLU(inplace=True)\n",
            "  (21): Conv2d(512, 512, kernel_size=(3, 3), stride=(1, 1), padding=(1, 1))\n",
            "  (22): ReLU(inplace=True)\n",
            "  (23): MaxPool2d(kernel_size=2, stride=2, padding=0, dilation=1, ceil_mode=False)\n",
            "  (24): Conv2d(512, 512, kernel_size=(3, 3), stride=(1, 1), padding=(1, 1))\n",
            "  (25): ReLU(inplace=True)\n",
            "  (26): Conv2d(512, 512, kernel_size=(3, 3), stride=(1, 1), padding=(1, 1))\n",
            "  (27): ReLU(inplace=True)\n",
            "  (28): Conv2d(512, 512, kernel_size=(3, 3), stride=(1, 1), padding=(1, 1))\n",
            "  (29): ReLU(inplace=True)\n",
            ")\n",
            "torch.Size([1, 512, 50, 50])\n"
          ]
        }
      ]
    },
    {
      "cell_type": "code",
      "metadata": {
        "id": "pQQ2ug1_KreO"
      },
      "source": [
        "#anchor boxes\n",
        "ratios=[0.5,1,2]\n",
        "anchor_scales=[8,16,32]\n",
        "sub_sample=16\n",
        "feature_size=800//sub_sample\n",
        "anchor_base=np.zeros((len(ratios)*len(anchor_scales),4),dtype=np.float32)"
      ],
      "execution_count": 20,
      "outputs": []
    },
    {
      "cell_type": "code",
      "metadata": {
        "colab": {
          "base_uri": "https://localhost:8080/"
        },
        "id": "gR4pWBR0NRGm",
        "outputId": "ec30646b-339c-4521-c7b9-7ca2d790412f"
      },
      "source": [
        "ctr_x = np.arange(16,(feature_size+1)*16,16)\n",
        "ctr_y = np.arange(16,(feature_size+1)*16,16)\n",
        "idx=0\n",
        "centers=[]\n",
        "for i in range(len(ctr_x)):\n",
        "  for j in range(len(ctr_y)):\n",
        "    y=ctr_y[j]-8\n",
        "    x=ctr_x[i]-8\n",
        "    centers.append([x,y])\n",
        "    idx+=1\n",
        "centers=np.array(centers)\n",
        "centers.shape"
      ],
      "execution_count": 21,
      "outputs": [
        {
          "output_type": "execute_result",
          "data": {
            "text/plain": [
              "(2500, 2)"
            ]
          },
          "metadata": {},
          "execution_count": 21
        }
      ]
    },
    {
      "cell_type": "code",
      "metadata": {
        "colab": {
          "base_uri": "https://localhost:8080/"
        },
        "id": "AJ1GIZ7QOgOv",
        "outputId": "f860b9fd-778f-42ef-f3fb-9c9cf48a2d61"
      },
      "source": [
        "anchors=np.zeros((feature_size*feature_size*9,4))\n",
        "idx=0\n",
        "for c in centers:\n",
        "  x,y=c\n",
        "  for i in range(len(ratios)):\n",
        "    for j in range(len(anchor_scales)):\n",
        "      h=sub_sample*anchor_scales[j]*np.sqrt(ratios[i])\n",
        "      w=sub_sample*anchor_scales[j]*np.sqrt(1/ratios[i])\n",
        "      anchors[idx,0]=x-w/2\n",
        "      anchors[idx,1]=y-h/2\n",
        "      anchors[idx,2]=x+w/2\n",
        "      anchors[idx,3]=y+h/2\n",
        "      idx+=1\n",
        "anchors.shape"
      ],
      "execution_count": 26,
      "outputs": [
        {
          "output_type": "execute_result",
          "data": {
            "text/plain": [
              "(22500, 4)"
            ]
          },
          "metadata": {},
          "execution_count": 26
        }
      ]
    },
    {
      "cell_type": "code",
      "metadata": {
        "colab": {
          "base_uri": "https://localhost:8080/"
        },
        "id": "z53iudA_ZEsT",
        "outputId": "83268f5b-ac5e-4002-93fe-05ba52396dda"
      },
      "source": [
        "#exclude anchor boxes that are outside the image\n",
        "idx_inside=np.where((anchors[:,0]>=0)&(anchors[:,1]>=0)&(anchors[:,2]<=800)&(anchors[:,3]<=800))\n",
        "valid_boxes=anchors[idx_inside]\n",
        "valid_boxes.shape"
      ],
      "execution_count": 27,
      "outputs": [
        {
          "output_type": "execute_result",
          "data": {
            "text/plain": [
              "(8940, 4)"
            ]
          },
          "metadata": {},
          "execution_count": 27
        }
      ]
    },
    {
      "cell_type": "code",
      "metadata": {
        "id": "sfrdo0jrcpIs"
      },
      "source": [
        ""
      ],
      "execution_count": null,
      "outputs": []
    },
    {
      "cell_type": "code",
      "metadata": {
        "id": "rWSEgS0Bhihg"
      },
      "source": [
        "class RPN(nn.Module):\n",
        "  def __init__(self,num_anchors):\n",
        "    super(RPN,self).__init__()\n",
        "    self.conv = nn.Conv2d(512,512,(3,3),stride=(1,1),padding=(1,1))\n",
        "    self.classifier = nn.Conv2d(512,num_anchors,(1,1))\n",
        "    self.regressor = nn.Conv2d(512,num_anchors*4,(1,1))\n",
        "    self.relu = nn.ReLU()\n",
        "    self.sigmoid = nn.Sigmoid()\n",
        "\n",
        "  def forward(self,base_out):\n",
        "    x = self.conv(base_out)\n",
        "    x = self.relu(x)\n",
        "    x_class = self.classifier(x)\n",
        "    x_class = self.sigmoid(x_class)\n",
        "    x_regress = self.regressor(x)\n",
        "\n",
        "    return [x_class,x_regress]"
      ],
      "execution_count": null,
      "outputs": []
    },
    {
      "cell_type": "code",
      "metadata": {
        "colab": {
          "base_uri": "https://localhost:8080/"
        },
        "id": "1vMkvq6Sl1La",
        "outputId": "4c4ae484-c45c-4050-c181-b752e334efc9"
      },
      "source": [
        "#test RPN\n",
        "test_RPN = RPN(9)\n",
        "[out1,out2] = test_RPN(out)\n",
        "print(out1.shape)\n",
        "print(out2.shape)"
      ],
      "execution_count": null,
      "outputs": [
        {
          "output_type": "stream",
          "name": "stdout",
          "text": [
            "torch.Size([1, 9, 7, 7])\n",
            "torch.Size([1, 36, 7, 7])\n"
          ]
        }
      ]
    },
    {
      "cell_type": "code",
      "metadata": {
        "id": "rV5-mK29mvCt"
      },
      "source": [
        "\n",
        "#Overall Model\n",
        "class Net(nn.Module):\n",
        "  def __init__(self,in_channels,num_anchors=9):\n",
        "    super(Net,self).__init__()\n",
        "    self.in_channels = in_channels\n",
        "    self.num_anchors = num_anchors\n",
        "    self.vgg = VGG16(self.in_channels)\n",
        "    self.rpn = RPN(self.num_anchors)\n",
        "\n",
        "  def forward(self,x):\n",
        "    base_out = self.vgg(x)\n",
        "    [x_c,x_r] = self.rpn(base_out)\n",
        "\n",
        "    return [x_c,x_r,base_out]"
      ],
      "execution_count": null,
      "outputs": []
    },
    {
      "cell_type": "code",
      "metadata": {
        "colab": {
          "base_uri": "https://localhost:8080/"
        },
        "id": "0VWuOiv_p3gy",
        "outputId": "ac32e67d-9edc-49e7-8d35-15209692f7f6"
      },
      "source": [
        "#test overall Network\n",
        "model = Net(3,9)\n",
        "x = torch.randn(1,3,224,224)\n",
        "[o1,o2,o3] = model(x)\n",
        "print(o1.shape)\n",
        "print(o2.shape)\n",
        "print(o3.shape)"
      ],
      "execution_count": null,
      "outputs": [
        {
          "output_type": "stream",
          "name": "stdout",
          "text": [
            "torch.Size([1, 9, 7, 7])\n",
            "torch.Size([1, 36, 7, 7])\n",
            "torch.Size([1, 512, 7, 7])\n"
          ]
        }
      ]
    },
    {
      "cell_type": "code",
      "metadata": {
        "id": "IqaZLNzUqRCb"
      },
      "source": [
        "#ROI Pooling\n",
        "class ROI_Pool(nn.Module):\n",
        "  def __init__(self,pool_size,num_rois,**kwargs):\n",
        "    super(ROI_Pool,self).__init__()\n",
        "    self.pool_size = pool_size\n",
        "    self.num_rois = num_rois\n",
        "    "
      ],
      "execution_count": null,
      "outputs": []
    }
  ]
}